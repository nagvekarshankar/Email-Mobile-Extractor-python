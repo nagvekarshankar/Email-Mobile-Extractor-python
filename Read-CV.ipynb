{
 "cells": [
  {
   "cell_type": "markdown",
   "metadata": {},
   "source": [
    "## Import Libraries "
   ]
  },
  {
   "cell_type": "code",
   "execution_count": 1,
   "metadata": {},
   "outputs": [],
   "source": [
    "import docx\n",
    "import re\n",
    "import docx2txt\n",
    "import glob\n",
    "import os\n",
    "import pandas as pd"
   ]
  },
  {
   "cell_type": "markdown",
   "metadata": {},
   "source": [
    "## Read all word documents in docx format\n"
   ]
  },
  {
   "cell_type": "code",
   "execution_count": 2,
   "metadata": {},
   "outputs": [],
   "source": [
    "resume = glob.glob(\"cv/*.docx\")\n"
   ]
  },
  {
   "cell_type": "markdown",
   "metadata": {},
   "source": [
    "## Function to read docx file "
   ]
  },
  {
   "cell_type": "code",
   "execution_count": 3,
   "metadata": {},
   "outputs": [],
   "source": [
    "def open_documents(file_path):\n",
    "    doc =open(file_path,\"rb\")\n",
    "    return docx.Document(doc)\n",
    "    "
   ]
  },
  {
   "cell_type": "markdown",
   "metadata": {},
   "source": [
    "## Extract Emails from string "
   ]
  },
  {
   "cell_type": "code",
   "execution_count": 4,
   "metadata": {},
   "outputs": [],
   "source": [
    " def search_email(string):\n",
    "    #print(string)\n",
    "    return re.findall(r\"[a-z0-9\\.\\-+_]+@[a-z0-9\\.\\-+_]+\\.[a-z]+\", string)\n",
    "  "
   ]
  },
  {
   "cell_type": "markdown",
   "metadata": {},
   "source": [
    "# Extract Mobile from string"
   ]
  },
  {
   "cell_type": "code",
   "execution_count": 5,
   "metadata": {},
   "outputs": [],
   "source": [
    "def search_mobile(string):\n",
    "    return re.findall(r'[\\+\\(]?[1-9][0-9 .\\-\\(\\)]{8,}[0-9]',string)\n"
   ]
  },
  {
   "cell_type": "markdown",
   "metadata": {},
   "source": [
    "## Convert Doc to Text "
   ]
  },
  {
   "cell_type": "markdown",
   "metadata": {},
   "source": [
    " Emails, links are not visible via open() hence we convert it into plain text so as to read Emails or links"
   ]
  },
  {
   "cell_type": "code",
   "execution_count": 6,
   "metadata": {},
   "outputs": [],
   "source": [
    "def doc_to_text(file_path):\n",
    "    return docx2txt.process(file_path)"
   ]
  },
  {
   "cell_type": "markdown",
   "metadata": {},
   "source": [
    "## Process to read document files and extract Mobile and phone number "
   ]
  },
  {
   "cell_type": "markdown",
   "metadata": {},
   "source": [
    " Over here we have extracted all the docx files from the given folder \n",
    "   We converted the docx file to text format\n",
    "   Extracted mobile and Emails from the given file\n",
    "   Appended it into Dataframe for further use"
   ]
  },
  {
   "cell_type": "code",
   "execution_count": 7,
   "metadata": {},
   "outputs": [
    {
     "data": {
      "text/html": [
       "<div>\n",
       "<style scoped>\n",
       "    .dataframe tbody tr th:only-of-type {\n",
       "        vertical-align: middle;\n",
       "    }\n",
       "\n",
       "    .dataframe tbody tr th {\n",
       "        vertical-align: top;\n",
       "    }\n",
       "\n",
       "    .dataframe thead th {\n",
       "        text-align: right;\n",
       "    }\n",
       "</style>\n",
       "<table border=\"1\" class=\"dataframe\">\n",
       "  <thead>\n",
       "    <tr style=\"text-align: right;\">\n",
       "      <th></th>\n",
       "      <th>File_Name</th>\n",
       "      <th>Emails</th>\n",
       "      <th>Mobile</th>\n",
       "    </tr>\n",
       "  </thead>\n",
       "  <tbody>\n",
       "    <tr>\n",
       "      <th>0</th>\n",
       "      <td>Resume-Shankar-Nagvekar.docx</td>\n",
       "      <td>nagvekar_shankar@yahoo.com</td>\n",
       "      <td>+91 9892420701</td>\n",
       "    </tr>\n",
       "    <tr>\n",
       "      <th>1</th>\n",
       "      <td>Shankar-Architect.docx</td>\n",
       "      <td>nagvekar_shankar@yahoo.com</td>\n",
       "      <td>+919892420701</td>\n",
       "    </tr>\n",
       "  </tbody>\n",
       "</table>\n",
       "</div>"
      ],
      "text/plain": [
       "                      File_Name                      Emails          Mobile\n",
       "0  Resume-Shankar-Nagvekar.docx  nagvekar_shankar@yahoo.com  +91 9892420701\n",
       "1        Shankar-Architect.docx  nagvekar_shankar@yahoo.com   +919892420701"
      ]
     },
     "execution_count": 7,
     "metadata": {},
     "output_type": "execute_result"
    }
   ],
   "source": [
    "emails         = []\n",
    "mobile         = []\n",
    "file_dict      = []\n",
    "for file in resume:\n",
    "    #print(file)\n",
    "    file_info = doc_to_text(file)\n",
    "    emails    = search_email(file_info)\n",
    "    mobile    = search_mobile(file_info)\n",
    "    file_name = os.path.basename(file)\n",
    "    file_dict.append({'File_Name':file_name,'Emails':emails[0],'Mobile':mobile[0]})\n",
    "\n",
    "file_info_dict = pd.DataFrame(file_dict)   \n",
    "file_info_dict"
   ]
  },
  {
   "cell_type": "markdown",
   "metadata": {},
   "source": [
    "                    -------------------Thank you--------------------"
   ]
  },
  {
   "cell_type": "code",
   "execution_count": null,
   "metadata": {},
   "outputs": [],
   "source": []
  }
 ],
 "metadata": {
  "kernelspec": {
   "display_name": "Python 3",
   "language": "python",
   "name": "python3"
  },
  "language_info": {
   "codemirror_mode": {
    "name": "ipython",
    "version": 3
   },
   "file_extension": ".py",
   "mimetype": "text/x-python",
   "name": "python",
   "nbconvert_exporter": "python",
   "pygments_lexer": "ipython3",
   "version": "3.8.3"
  }
 },
 "nbformat": 4,
 "nbformat_minor": 4
}
