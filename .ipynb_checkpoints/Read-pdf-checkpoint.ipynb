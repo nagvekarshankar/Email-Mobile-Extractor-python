{
 "cells": [
  {
   "cell_type": "markdown",
   "metadata": {},
   "source": [
    "# Install python packages required to read PDF "
   ]
  },
  {
   "cell_type": "code",
   "execution_count": 1,
   "metadata": {},
   "outputs": [],
   "source": [
    "#!pip install PyPDF2\n",
    "# importing required modules \n",
    "import PyPDF2 \n",
    "import glob\n",
    "import os\n",
    "import re\n",
    "import pandas as pd\n"
   ]
  },
  {
   "cell_type": "markdown",
   "metadata": {},
   "source": [
    "# Fetch all files present in given folder with extension as PDF"
   ]
  },
  {
   "cell_type": "code",
   "execution_count": 2,
   "metadata": {},
   "outputs": [],
   "source": [
    "resume = glob.glob(\"pdf_cv/*.pdf\")"
   ]
  },
  {
   "cell_type": "markdown",
   "metadata": {},
   "source": [
    "# Open PDF Documents using PyPDF package"
   ]
  },
  {
   "cell_type": "code",
   "execution_count": 3,
   "metadata": {},
   "outputs": [],
   "source": [
    "def open_documents(file_path):\n",
    "    pdfFileObj =open(file_path,\"rb\")\n",
    "    pdfReader = PyPDF2.PdfFileReader(pdfFileObj)\n",
    "    pageObj = pdfReader.getPage(0) \n",
    "    return pageObj.extractText()\n",
    "    "
   ]
  },
  {
   "cell_type": "markdown",
   "metadata": {},
   "source": [
    "# Extract all emails from the given text using regular expression"
   ]
  },
  {
   "cell_type": "code",
   "execution_count": 4,
   "metadata": {},
   "outputs": [],
   "source": [
    "def search_email(string):\n",
    "    return re.findall(r\"[a-z0-9\\.\\-+_]+@[a-z0-9\\.\\-+_]+\\.[a-z]+\", string)"
   ]
  },
  {
   "cell_type": "markdown",
   "metadata": {},
   "source": [
    "# Extract all mobiles from the given text with Different formats using regular expression"
   ]
  },
  {
   "cell_type": "code",
   "execution_count": 5,
   "metadata": {},
   "outputs": [],
   "source": [
    "def search_mobile(string):\n",
    "    return re.findall(r'[\\+\\(]?[1-9][0-9 .\\-\\(\\)]{8,}[0-9]',string)\n",
    "    #return re.findall(r'\\d\\d\\d\\d\\d\\d\\d\\d\\d\\d',string)"
   ]
  },
  {
   "cell_type": "markdown",
   "metadata": {},
   "source": [
    "# Convert Docx text to Text in order to read URL and emails\n"
   ]
  },
  {
   "cell_type": "code",
   "execution_count": 6,
   "metadata": {},
   "outputs": [],
   "source": [
    "def doc_to_text(file_path):\n",
    "    return docx2txt.process(file_path)"
   ]
  },
  {
   "cell_type": "markdown",
   "metadata": {},
   "source": [
    "# open PDF using PyPDF package"
   ]
  },
  {
   "cell_type": "code",
   "execution_count": 7,
   "metadata": {},
   "outputs": [],
   "source": [
    "def open_pdf(file):\n",
    "    pdfFileObj =open(file,\"rb\")\n",
    "    return PyPDF2.PdfFileReader(pdfFileObj)\n",
    "    "
   ]
  },
  {
   "cell_type": "markdown",
   "metadata": {},
   "source": [
    "# Read PDF using PyPDF package"
   ]
  },
  {
   "cell_type": "code",
   "execution_count": 8,
   "metadata": {},
   "outputs": [],
   "source": [
    "def read_pdf(pdfReader):\n",
    "    num_pages = pdfReader.numPages\n",
    "    content = \"\"\n",
    "    for i in range(0, num_pages):\n",
    "        content += pdfReader.getPage(i).extractText() + \"\\n\"\n",
    "    content = \" \".join(content.replace(u\"\\xa0\", \" \").strip().split())     \n",
    "    return content "
   ]
  },
  {
   "cell_type": "markdown",
   "metadata": {},
   "source": [
    "# Extract Mobile number from the pdf pages"
   ]
  },
  {
   "cell_type": "code",
   "execution_count": 9,
   "metadata": {},
   "outputs": [],
   "source": [
    " def read_mobile(pdfReader):\n",
    "    num_pages = pdfReader.numPages\n",
    "    content = \"\"\n",
    "    for i in range(0, num_pages):\n",
    "        return search_mobile(pdfReader.getPage(i).extractText())"
   ]
  },
  {
   "cell_type": "markdown",
   "metadata": {},
   "source": [
    "# Extract Email Id's from the pdf pages\n"
   ]
  },
  {
   "cell_type": "code",
   "execution_count": 10,
   "metadata": {},
   "outputs": [],
   "source": [
    "def read_email(pdfReader):\n",
    "    num_pages = pdfReader.numPages\n",
    "    content = \"\"\n",
    "    for i in range(0, num_pages):\n",
    "        return search_email(pdfReader.getPage(i).extractText())"
   ]
  },
  {
   "cell_type": "markdown",
   "metadata": {},
   "source": [
    "# Process to open all pdf files from the given folder and Extract email and mobile numbers and store it into Dataframe"
   ]
  },
  {
   "cell_type": "code",
   "execution_count": 11,
   "metadata": {},
   "outputs": [],
   "source": [
    "emails         = []\n",
    "mobile         = []\n",
    "file_dict      = []\n",
    "for file in resume:\n",
    "    #print(file)\n",
    "    pdfObj = open_pdf(file)\n",
    "    mobile = read_mobile(pdfObj)\n",
    "    emails = read_email(pdfObj)\n",
    "    file_name = os.path.basename(file)\n",
    "    '''file_info_dict['emails'] = emails\n",
    "    file_info_dict['mobile'] = mobile\n",
    "    file_dict[file_name]           = file_info_dict\n",
    "    file_info_dict     = {}'''\n",
    "    file_dict.append({'File_Name':file_name,'Emails':emails[0],'Mobile':mobile[0]})\n",
    "    \n",
    "\n",
    "file_info_dict = pd.DataFrame(file_dict)\n"
   ]
  },
  {
   "cell_type": "code",
   "execution_count": 12,
   "metadata": {},
   "outputs": [
    {
     "data": {
      "text/html": [
       "<div>\n",
       "<style scoped>\n",
       "    .dataframe tbody tr th:only-of-type {\n",
       "        vertical-align: middle;\n",
       "    }\n",
       "\n",
       "    .dataframe tbody tr th {\n",
       "        vertical-align: top;\n",
       "    }\n",
       "\n",
       "    .dataframe thead th {\n",
       "        text-align: right;\n",
       "    }\n",
       "</style>\n",
       "<table border=\"1\" class=\"dataframe\">\n",
       "  <thead>\n",
       "    <tr style=\"text-align: right;\">\n",
       "      <th></th>\n",
       "      <th>File_Name</th>\n",
       "      <th>Emails</th>\n",
       "      <th>Mobile</th>\n",
       "    </tr>\n",
       "  </thead>\n",
       "  <tbody>\n",
       "    <tr>\n",
       "      <th>0</th>\n",
       "      <td>Resume-Shankar-Nagvekar.pdf</td>\n",
       "      <td>nagvekar_shankar@yahoo.com</td>\n",
       "      <td>+91 9892420701</td>\n",
       "    </tr>\n",
       "    <tr>\n",
       "      <th>1</th>\n",
       "      <td>Shankar-Architect.pdf</td>\n",
       "      <td>nagvekar_shankar@yahoo.com</td>\n",
       "      <td>9892420701</td>\n",
       "    </tr>\n",
       "  </tbody>\n",
       "</table>\n",
       "</div>"
      ],
      "text/plain": [
       "                     File_Name                      Emails          Mobile\n",
       "0  Resume-Shankar-Nagvekar.pdf  nagvekar_shankar@yahoo.com  +91 9892420701\n",
       "1        Shankar-Architect.pdf  nagvekar_shankar@yahoo.com      9892420701"
      ]
     },
     "execution_count": 12,
     "metadata": {},
     "output_type": "execute_result"
    }
   ],
   "source": [
    "file_info_dict"
   ]
  },
  {
   "cell_type": "markdown",
   "metadata": {},
   "source": [
    "               ----------------------------------Thank You ----------------------------"
   ]
  },
  {
   "cell_type": "code",
   "execution_count": null,
   "metadata": {},
   "outputs": [],
   "source": []
  }
 ],
 "metadata": {
  "kernelspec": {
   "display_name": "Python 3",
   "language": "python",
   "name": "python3"
  },
  "language_info": {
   "codemirror_mode": {
    "name": "ipython",
    "version": 3
   },
   "file_extension": ".py",
   "mimetype": "text/x-python",
   "name": "python",
   "nbconvert_exporter": "python",
   "pygments_lexer": "ipython3",
   "version": "3.8.3"
  }
 },
 "nbformat": 4,
 "nbformat_minor": 4
}
